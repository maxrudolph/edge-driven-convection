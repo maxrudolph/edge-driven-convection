{
 "cells": [
  {
   "cell_type": "markdown",
   "metadata": {
    "deletable": true,
    "editable": true
   },
   "source": [
    "## Overview\n",
    "Here we use ASPECT to numerically reproduce the results of a linear stability analysis for the onset of convection in a fluid layer heated from below. This exercise was assigned to students in a geodynamics class at Portland State University as a first step towards setting up a nominally Earth-like mantle convection model. Hence, representative length scales and transport properties for Earth are used.\n",
    "\n",
    "The linear stability analysis appears in Turcotte and Schubert (2014) section 6.19. To use this code, you must compile aspect and give the path to the executable below as $\\texttt{aspect_bin}$. The critical Rayleigh number for the onset of convection depends only on the dimensionless wavelength of the perturbation, which is assumed to be equal to width of the domain. The domain has height $b$ and width $\\lambda$ and the perturbation has the functional form:\n",
    "\n",
    "$\n",
    "T'(x,y) = T_0'\\cos\\left(\\frac{2\\pi x}{\\lambda}\\right)\\sin\\left(\\frac{\\pi y}{b} \\right)\n",
    "$\n",
    "\n",
    "Note that because we place the bottom boundary of the domain at $y=0$ and the top at $y=b$, the perturbation vanishes at the top and bottom boundaries.\n",
    "\n",
    "The analytic solution for the critical Rayleigh number, $Ra_{cr}$ is given in T\\&S equation 6.319:\n",
    "\n",
    "$\n",
    "Ra_{cr}=\\frac{\\left(\\pi^2+\\frac{4\\pi^2 b^2}{\\lambda^2}\\right)^3}{\\frac{4\\pi^2 b^2}{\\lambda^2}}\n",
    "$\n",
    "\n",
    "The linear stability analysis also makes a prediction for the dimensionless growth rate of the instability $\\alpha'$. The maximum vertical velocity is given by:\n",
    "\n",
    "$\n",
    "v_{y,max} = \\frac{2\\pi}{\\lambda}\\phi_0' e^{\\alpha' t}\n",
    "$,\n",
    "\n",
    "where\n",
    "\n",
    "$\n",
    "\\phi_0' = -\\frac{2\\pi}{\\lambda}\\frac{\\rho_0 g \\alpha T_0'}{\\mu}\\left(\\frac{4\\pi^2}{\\lambda^2}+\\frac{\\pi^2}{b^2} \\right)^{-2}\n",
    "$,\n",
    "\n",
    "and\n",
    "\n",
    "$\n",
    "\\alpha'=\\frac{\\kappa}{b^2}\\left[\\frac{\\rho_0 g \\alpha b^3 \\Delta T}{\\mu \\kappa}\\left(\\frac{\\frac{4\\pi^2 b^2}{\\lambda^2}}{\\left(\\frac{4\\pi^2 b^2}{\\lambda^2}+\\pi^2\\right)^2}\\right) -\\left(\\pi^2+\\frac{4\\pi^2b^2}{\\lambda^2}\\right)\\right]\n",
    "$."
   ]
  },
  {
   "cell_type": "code",
   "execution_count": 1,
   "metadata": {
    "deletable": true,
    "editable": true
   },
   "outputs": [],
   "source": [
    "import numpy as np\n",
    "import matplotlib.pyplot as plt\n",
    "from subprocess import run\n",
    "\n",
    "base_input = \"edge-isoviscous-base.prm\"     # The 'base' input file that gets modified\n",
    "input_file = \"input.prm\"                   # The temporary input file that is used for each run\n",
    "aspect_bin = \"../../build/aspect\"          # Path to aspect executable\n",
    "output_dir = \"output\"                      # Output directory"
   ]
  },
  {
   "cell_type": "code",
   "execution_count": 2,
   "metadata": {
    "deletable": true,
    "editable": true
   },
   "outputs": [],
   "source": [
    "# Create a dictionary to replace keys in base input file with appropriate values\n",
    "parameters = dict([])\n",
    "parameters['RAYLEIGH'] = 0.0          # vertical gravitational acceleration\n",
    "\n",
    "def generate_input_file(base_file_name,output_file_name,dictionary):\n",
    "    \"\"\"Read the 'base' input file from base_file_name, replace strings \n",
    "    using dictionary, and write new output file to output_file_name\"\"\"\n",
    "    fh = open(base_file_name,'r')\n",
    "    run(['rm','-f',output_file_name])\n",
    "    ofh = open(output_file_name,'w')\n",
    "    for line in fh:        \n",
    "        for key in dictionary:\n",
    "            if key in line:                \n",
    "                line = line.replace(key,str(dictionary[key]))\n",
    "        ofh.write(line)\n",
    "    fh.close()\n",
    "    ofh.close()\n",
    "    \n",
    "def parse_output(output_dir):\n",
    "    \"\"\"Read the statistics (stats_file) file from the output directory\"\"\"\n",
    "    tmp = np.loadtxt(output_dir + '/statistics',usecols=(1, 11,21))\n",
    "    #vy = np.loadtxt(output_dir + '/point_values.txt',usecols=(4,))\n",
    "    t=tmp[:,0]\n",
    "    vmax = tmp[:,1]\n",
    "    return t,vmax,vy,qsurf\n",
    "    \n",
    "def vy_exact(t,p):\n",
    "    \"\"\"Evaluate exact expression for maximum upward velocity\"\"\"\n",
    "    lam = p['WIDTH']\n",
    "    b = p['HEIGHT']\n",
    "    g = p['GRAVITY']\n",
    "    T0 = p['PMAG']\n",
    "    alpha = p['ALPHA']\n",
    "    eta = p['VISCOSITY']\n",
    "    rho = p['DENSITY']\n",
    "    dT = p['DELTA_T']\n",
    "    kappa = p['KTHERMAL']/rho/p['SPECIFIC_HEAT']\n",
    "    alpha_prime = kappa/b**2*((rho*g*alpha*b**3*dT/eta/kappa)*(4.0*np.pi**2*b**2/lam**2/(4.0*np.pi**2*b**2/lam**2+np.pi**2)**2)-(np.pi**2+4.0*np.pi**2*b**2/lam**2))\n",
    "    phi0 = -2.0*np.pi/lam*(rho*g*alpha*T0/eta)*(4.*np.pi**2/lam**2 + np.pi**2/b**2)**(-2.0)\n",
    "    vymax = 2.0*np.pi/lam*phi0 * np.exp(alpha_prime*t)\n",
    "    return vymax\n",
    "    \n",
    "def run_aspect(rayleigh,p=parameters):\n",
    "    \"\"\"Perofm the following tasks. \n",
    "    1. Choose viscosity to satisfy rayleigh number rayleigh and parameters in p, which\n",
    "    defaults to the parameters dictionary defined in the current namespace. \n",
    "    2. Generate an input file. \n",
    "    3. Run aspect\n",
    "    4. Parse the results, return the rate at which velocities increase between the first and second timesteps.\"\"\"\n",
    "    # def eta(ra):        \n",
    "    #     rho = p['DENSITY']\n",
    "    #     alpha = p['ALPHA']\n",
    "    #     g = p['GRAVITY']\n",
    "    #     dT = p['DELTA_T']\n",
    "    #     h = p['HEIGHT']     \n",
    "    #     kappa = p['KTHERMAL']/p['DENSITY']/p['SPECIFIC_HEAT']    \n",
    "    #     return rho*g*alpha*dT*(h**3)/ra/kappa                \n",
    "    \n",
    "    p['RAYLEIGH'] = rayleigh;    \n",
    "    generate_input_file(base_input,input_file,p)\n",
    "    run(['rm','-rf',output_dir])\n",
    "    run([aspect_bin,input_file])\n",
    "    t, vmax, vy = parse_output(output_dir)\n",
    "    return (vmax[1]-vmax[0]), t, vy\n",
    "\n"
   ]
  },
  {
   "cell_type": "code",
   "execution_count": 12,
   "metadata": {},
   "outputs": [
    {
     "name": "stdout",
     "output_type": "stream",
     "text": [
      "[1.00000000e+00 3.16227766e+00 1.00000000e+01 3.16227766e+01\n",
      " 1.00000000e+02 3.16227766e+02 1.00000000e+03 3.16227766e+03\n",
      " 1.00000000e+04 3.16227766e+04 1.00000000e+05]\n"
     ]
    }
   ],
   "source": [
    "rayleigh_numbers = 10.0 ** np.linspace(0,5,11)\n",
    "print(rayleigh_numbers)"
   ]
  },
  {
   "cell_type": "code",
   "execution_count": null,
   "metadata": {},
   "outputs": [],
   "source": [
    "for ra in "
   ]
  }
 ],
 "metadata": {
  "kernelspec": {
   "display_name": "Python 3 (ipykernel)",
   "language": "python",
   "name": "python3"
  },
  "language_info": {
   "codemirror_mode": {
    "name": "ipython",
    "version": 3
   },
   "file_extension": ".py",
   "mimetype": "text/x-python",
   "name": "python",
   "nbconvert_exporter": "python",
   "pygments_lexer": "ipython3",
   "version": "3.12.2"
  }
 },
 "nbformat": 4,
 "nbformat_minor": 4
}
